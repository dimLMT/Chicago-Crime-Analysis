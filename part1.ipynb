{
 "cells": [
  {
   "cell_type": "code",
   "execution_count": 1,
   "id": "2d138788-71fd-4935-bc82-f1728156ae3b",
   "metadata": {},
   "outputs": [
    {
     "data": {
      "text/plain": [
       "['Data\\\\Chicago-Crime_2001.csv',\n",
       " 'Data\\\\Chicago-Crime_2002.csv',\n",
       " 'Data\\\\Chicago-Crime_2003.csv',\n",
       " 'Data\\\\Chicago-Crime_2004.csv',\n",
       " 'Data\\\\Chicago-Crime_2005.csv',\n",
       " 'Data\\\\Chicago-Crime_2006.csv',\n",
       " 'Data\\\\Chicago-Crime_2007.csv',\n",
       " 'Data\\\\Chicago-Crime_2008.csv',\n",
       " 'Data\\\\Chicago-Crime_2009.csv',\n",
       " 'Data\\\\Chicago-Crime_2010.csv',\n",
       " 'Data\\\\Chicago-Crime_2011.csv',\n",
       " 'Data\\\\Chicago-Crime_2012.csv',\n",
       " 'Data\\\\Chicago-Crime_2013.csv',\n",
       " 'Data\\\\Chicago-Crime_2014.csv',\n",
       " 'Data\\\\Chicago-Crime_2015.csv',\n",
       " 'Data\\\\Chicago-Crime_2016.csv',\n",
       " 'Data\\\\Chicago-Crime_2017.csv',\n",
       " 'Data\\\\Chicago-Crime_2018.csv',\n",
       " 'Data\\\\Chicago-Crime_2019.csv',\n",
       " 'Data\\\\Chicago-Crime_2020.csv',\n",
       " 'Data\\\\Chicago-Crime_2021.csv',\n",
       " 'Data\\\\Chicago-Crime_2022.csv']"
      ]
     },
     "execution_count": 1,
     "metadata": {},
     "output_type": "execute_result"
    }
   ],
   "source": [
    "import numpy as np\n",
    "import pandas as pd\n",
    "import matplotlib.pyplot as plt\n",
    "import seaborn as sns\n",
    "import os, glob\n",
    "# Use glob to get all filepaths that match the pattern (*=wildcard)\n",
    "all_files = sorted(glob.glob(\"Data/Chicago-Crime*.csv\"))\n",
    "all_files"
   ]
  },
  {
   "cell_type": "code",
   "execution_count": 3,
   "id": "4d0ee159-3749-4549-8444-09120e88cd0b",
   "metadata": {},
   "outputs": [
    {
     "name": "stdout",
     "output_type": "stream",
     "text": [
      "<class 'pandas.core.frame.DataFrame'>\n",
      "RangeIndex: 7713109 entries, 0 to 7713108\n",
      "Data columns (total 12 columns):\n",
      " #   Column                Dtype  \n",
      "---  ------                -----  \n",
      " 0   ID                    int64  \n",
      " 1   Date                  object \n",
      " 2   Primary Type          object \n",
      " 3   Description           object \n",
      " 4   Location Description  object \n",
      " 5   Arrest                bool   \n",
      " 6   Domestic              bool   \n",
      " 7   Beat                  int64  \n",
      " 8   District              float64\n",
      " 9   Ward                  float64\n",
      " 10  Latitude              float64\n",
      " 11  Longitude             float64\n",
      "dtypes: bool(2), float64(4), int64(2), object(4)\n",
      "memory usage: 603.2+ MB\n"
     ]
    },
    {
     "data": {
      "text/html": [
       "<div>\n",
       "<style scoped>\n",
       "    .dataframe tbody tr th:only-of-type {\n",
       "        vertical-align: middle;\n",
       "    }\n",
       "\n",
       "    .dataframe tbody tr th {\n",
       "        vertical-align: top;\n",
       "    }\n",
       "\n",
       "    .dataframe thead th {\n",
       "        text-align: right;\n",
       "    }\n",
       "</style>\n",
       "<table border=\"1\" class=\"dataframe\">\n",
       "  <thead>\n",
       "    <tr style=\"text-align: right;\">\n",
       "      <th></th>\n",
       "      <th>ID</th>\n",
       "      <th>Date</th>\n",
       "      <th>Primary Type</th>\n",
       "      <th>Description</th>\n",
       "      <th>Location Description</th>\n",
       "      <th>Arrest</th>\n",
       "      <th>Domestic</th>\n",
       "      <th>Beat</th>\n",
       "      <th>District</th>\n",
       "      <th>Ward</th>\n",
       "      <th>Latitude</th>\n",
       "      <th>Longitude</th>\n",
       "    </tr>\n",
       "  </thead>\n",
       "  <tbody>\n",
       "    <tr>\n",
       "      <th>0</th>\n",
       "      <td>1326041</td>\n",
       "      <td>01/01/2001 01:00:00 AM</td>\n",
       "      <td>BATTERY</td>\n",
       "      <td>SIMPLE</td>\n",
       "      <td>RESIDENCE</td>\n",
       "      <td>False</td>\n",
       "      <td>False</td>\n",
       "      <td>1624</td>\n",
       "      <td>16.0</td>\n",
       "      <td>NaN</td>\n",
       "      <td>41.957850</td>\n",
       "      <td>-87.749185</td>\n",
       "    </tr>\n",
       "    <tr>\n",
       "      <th>1</th>\n",
       "      <td>1319931</td>\n",
       "      <td>01/01/2001 01:00:00 PM</td>\n",
       "      <td>BATTERY</td>\n",
       "      <td>SIMPLE</td>\n",
       "      <td>RESIDENCE</td>\n",
       "      <td>False</td>\n",
       "      <td>True</td>\n",
       "      <td>825</td>\n",
       "      <td>8.0</td>\n",
       "      <td>NaN</td>\n",
       "      <td>41.783892</td>\n",
       "      <td>-87.684841</td>\n",
       "    </tr>\n",
       "    <tr>\n",
       "      <th>2</th>\n",
       "      <td>1324743</td>\n",
       "      <td>01/01/2001 01:00:00 PM</td>\n",
       "      <td>GAMBLING</td>\n",
       "      <td>ILLEGAL ILL LOTTERY</td>\n",
       "      <td>STREET</td>\n",
       "      <td>True</td>\n",
       "      <td>False</td>\n",
       "      <td>313</td>\n",
       "      <td>3.0</td>\n",
       "      <td>NaN</td>\n",
       "      <td>41.780412</td>\n",
       "      <td>-87.611970</td>\n",
       "    </tr>\n",
       "    <tr>\n",
       "      <th>3</th>\n",
       "      <td>1310717</td>\n",
       "      <td>01/01/2001 01:00:00 AM</td>\n",
       "      <td>CRIMINAL DAMAGE</td>\n",
       "      <td>TO VEHICLE</td>\n",
       "      <td>STREET</td>\n",
       "      <td>False</td>\n",
       "      <td>False</td>\n",
       "      <td>2424</td>\n",
       "      <td>24.0</td>\n",
       "      <td>NaN</td>\n",
       "      <td>42.012391</td>\n",
       "      <td>-87.678032</td>\n",
       "    </tr>\n",
       "    <tr>\n",
       "      <th>4</th>\n",
       "      <td>1318099</td>\n",
       "      <td>01/01/2001 01:00:00 AM</td>\n",
       "      <td>BATTERY</td>\n",
       "      <td>SIMPLE</td>\n",
       "      <td>RESIDENCE PORCH/HALLWAY</td>\n",
       "      <td>False</td>\n",
       "      <td>True</td>\n",
       "      <td>214</td>\n",
       "      <td>2.0</td>\n",
       "      <td>NaN</td>\n",
       "      <td>41.819538</td>\n",
       "      <td>-87.620020</td>\n",
       "    </tr>\n",
       "  </tbody>\n",
       "</table>\n",
       "</div>"
      ],
      "text/plain": [
       "        ID                    Date     Primary Type          Description  \\\n",
       "0  1326041  01/01/2001 01:00:00 AM          BATTERY               SIMPLE   \n",
       "1  1319931  01/01/2001 01:00:00 PM          BATTERY               SIMPLE   \n",
       "2  1324743  01/01/2001 01:00:00 PM         GAMBLING  ILLEGAL ILL LOTTERY   \n",
       "3  1310717  01/01/2001 01:00:00 AM  CRIMINAL DAMAGE           TO VEHICLE   \n",
       "4  1318099  01/01/2001 01:00:00 AM          BATTERY               SIMPLE   \n",
       "\n",
       "      Location Description  Arrest  Domestic  Beat  District  Ward   Latitude  \\\n",
       "0                RESIDENCE   False     False  1624      16.0   NaN  41.957850   \n",
       "1                RESIDENCE   False      True   825       8.0   NaN  41.783892   \n",
       "2                   STREET    True     False   313       3.0   NaN  41.780412   \n",
       "3                   STREET   False     False  2424      24.0   NaN  42.012391   \n",
       "4  RESIDENCE PORCH/HALLWAY   False      True   214       2.0   NaN  41.819538   \n",
       "\n",
       "   Longitude  \n",
       "0 -87.749185  \n",
       "1 -87.684841  \n",
       "2 -87.611970  \n",
       "3 -87.678032  \n",
       "4 -87.620020  "
      ]
     },
     "execution_count": 3,
     "metadata": {},
     "output_type": "execute_result"
    }
   ],
   "source": [
    "dff = pd.concat([pd.read_csv(f) for f in all_files], ignore_index=True)\n",
    "dff.info()\n",
    "dff.head()"
   ]
  },
  {
   "cell_type": "code",
   "execution_count": 6,
   "id": "6e653914-aa1b-400e-ad8e-dbeeb32cf591",
   "metadata": {},
   "outputs": [
    {
     "data": {
      "text/plain": [
       "0   2001-01-01 01:00:00\n",
       "1   2001-01-01 01:00:00\n",
       "2   2001-01-01 01:00:00\n",
       "3   2001-01-01 01:00:00\n",
       "4   2001-01-01 01:00:00\n",
       "Name: Datetime, dtype: datetime64[ns]"
      ]
     },
     "execution_count": 6,
     "metadata": {},
     "output_type": "execute_result"
    }
   ],
   "source": [
    "df=dff.copy()\n",
    "df['Datetime']= pd.to_datetime(df['Date'],format=\"%m/%d/%Y %H:%M:%S %p\")\n",
    "df['Datetime'].head()"
   ]
  },
  {
   "cell_type": "code",
   "execution_count": 12,
   "id": "47583525-fae2-4b56-8bcc-d4968962bcf1",
   "metadata": {},
   "outputs": [
    {
     "name": "stdout",
     "output_type": "stream",
     "text": [
      "<class 'pandas.core.frame.DataFrame'>\n",
      "Int64Index: 7713109 entries, 0 to 238857\n",
      "Data columns (total 12 columns):\n",
      " #   Column                Dtype         \n",
      "---  ------                -----         \n",
      " 0   ID                    int64         \n",
      " 1   Primary Type          object        \n",
      " 2   Description           object        \n",
      " 3   Location Description  object        \n",
      " 4   Arrest                bool          \n",
      " 5   Domestic              bool          \n",
      " 6   Beat                  int64         \n",
      " 7   District              float64       \n",
      " 8   Ward                  float64       \n",
      " 9   Latitude              float64       \n",
      " 10  Longitude             float64       \n",
      " 11  Datetime              datetime64[ns]\n",
      "dtypes: bool(2), datetime64[ns](1), float64(4), int64(2), object(3)\n",
      "memory usage: 662.0+ MB\n"
     ]
    }
   ],
   "source": [
    "df= df.drop(['Date'], axis=1)\n",
    "df= df.set_index('Datetime')"
   ]
  },
  {
   "cell_type": "code",
   "execution_count": 25,
   "id": "723905b9-af68-4ec4-a78f-4b7bbb194416",
   "metadata": {},
   "outputs": [
    {
     "data": {
      "text/plain": [
       "'01/01/2001 01:00:00 AM'"
      ]
     },
     "execution_count": 25,
     "metadata": {},
     "output_type": "execute_result"
    }
   ],
   "source": [
    "dff=pd.read_csv('Data\\\\Chicago-Crime_2001.csv',low_memory=False)\n",
    "dff.loc[0,'Date']"
   ]
  },
  {
   "cell_type": "code",
   "execution_count": 27,
   "id": "c6d7cfa8-f611-4ed4-97b1-eea7e3ce2bde",
   "metadata": {},
   "outputs": [
    {
     "data": {
      "text/plain": [
       "(7713109,)"
      ]
     },
     "execution_count": 27,
     "metadata": {},
     "output_type": "execute_result"
    }
   ],
   "source": [
    "df['Date'].shape"
   ]
  },
  {
   "cell_type": "code",
   "execution_count": 34,
   "id": "cda3bec9-ce49-44ae-8310-47fcf04d116d",
   "metadata": {},
   "outputs": [
    {
     "data": {
      "text/plain": [
       "'01/01/2001 01:00:00 AM'"
      ]
     },
     "execution_count": 34,
     "metadata": {},
     "output_type": "execute_result"
    }
   ],
   "source": [
    "dfxx.loc[0,'Date']"
   ]
  },
  {
   "cell_type": "code",
   "execution_count": 37,
   "id": "6442741d-5f35-4a6b-80ff-b52473d8f6c4",
   "metadata": {},
   "outputs": [
    {
     "data": {
      "text/plain": [
       "0          1\n",
       "5142070    1\n",
       "5142082    1\n",
       "5142081    1\n",
       "5142080    1\n",
       "          ..\n",
       "2571031    1\n",
       "2571030    1\n",
       "2571029    1\n",
       "2571028    1\n",
       "7713108    1\n",
       "Length: 7713109, dtype: int64"
      ]
     },
     "execution_count": 37,
     "metadata": {},
     "output_type": "execute_result"
    }
   ],
   "source": [
    "dfxx['Date'].index.value_counts()"
   ]
  },
  {
   "cell_type": "code",
   "execution_count": 40,
   "id": "c681e571-9c85-490c-8c27-e8a4f06cbc42",
   "metadata": {},
   "outputs": [
    {
     "data": {
      "text/plain": [
       "0          1\n",
       "5142070    1\n",
       "5142082    1\n",
       "5142081    1\n",
       "5142080    1\n",
       "          ..\n",
       "2571031    1\n",
       "2571030    1\n",
       "2571029    1\n",
       "2571028    1\n",
       "7713108    1\n",
       "Length: 7713109, dtype: int64"
      ]
     },
     "execution_count": 40,
     "metadata": {},
     "output_type": "execute_result"
    }
   ],
   "source": [
    "df['Datetime'].index.value_counts()"
   ]
  }
 ],
 "metadata": {
  "kernelspec": {
   "display_name": "Python (dojo-env)",
   "language": "python",
   "name": "dojo-env"
  },
  "language_info": {
   "codemirror_mode": {
    "name": "ipython",
    "version": 3
   },
   "file_extension": ".py",
   "mimetype": "text/x-python",
   "name": "python",
   "nbconvert_exporter": "python",
   "pygments_lexer": "ipython3",
   "version": "3.10.10"
  },
  "widgets": {
   "application/vnd.jupyter.widget-state+json": {
    "state": {},
    "version_major": 2,
    "version_minor": 0
   }
  }
 },
 "nbformat": 4,
 "nbformat_minor": 5
}
